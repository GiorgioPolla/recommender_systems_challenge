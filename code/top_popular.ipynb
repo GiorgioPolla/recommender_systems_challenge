{
 "cells": [
  {
   "cell_type": "code",
   "execution_count": 2,
   "metadata": {},
   "outputs": [],
   "source": [
    "import sys\n",
    "import numpy as np\n",
    "import pandas as pd"
   ]
  },
  {
   "cell_type": "code",
   "execution_count": 3,
   "metadata": {},
   "outputs": [],
   "source": [
    "# address of the file containing the interaction between playlists and tracks (train.csv)\n",
    "train_file = '../data/train.csv'"
   ]
  },
  {
   "cell_type": "code",
   "execution_count": 4,
   "metadata": {},
   "outputs": [],
   "source": [
    "# acquiring data from train\n",
    "train_data = pd.read_csv(train_file)\n",
    "train_data.columns = ['playlist_id', 'track_id']"
   ]
  },
  {
   "cell_type": "code",
   "execution_count": 5,
   "metadata": {},
   "outputs": [
    {
     "data": {
      "text/plain": [
       "(115553, 2)"
      ]
     },
     "execution_count": 5,
     "metadata": {},
     "output_type": "execute_result"
    }
   ],
   "source": [
    "# just checking the structure of the variable\n",
    "np.shape(train_data)"
   ]
  },
  {
   "cell_type": "code",
   "execution_count": 6,
   "metadata": {},
   "outputs": [],
   "source": [
    "tracks = train_data['track_id']"
   ]
  },
  {
   "cell_type": "code",
   "execution_count": 7,
   "metadata": {},
   "outputs": [
    {
     "data": {
      "text/plain": [
       "(115553,)"
      ]
     },
     "execution_count": 7,
     "metadata": {},
     "output_type": "execute_result"
    }
   ],
   "source": [
    "# just checking the structure of the variable\n",
    "np.shape(tracks)\n"
   ]
  },
  {
   "cell_type": "code",
   "execution_count": 9,
   "metadata": {},
   "outputs": [],
   "source": [
    "# creation of a dictionary 'track:occurrencies'\n",
    "temporary_chart = {}\n",
    "for track in tracks:\n",
    "    if track not in temporary_chart:\n",
    "        temporary_chart[track] = 1\n",
    "    else:\n",
    "        temporary_chart[track] += 1"
   ]
  },
  {
   "cell_type": "code",
   "execution_count": 10,
   "metadata": {},
   "outputs": [],
   "source": [
    "final_chart = sorted(temporary_chart.items() ,  key=lambda x: x[1], reverse=True)"
   ]
  },
  {
   "cell_type": "code",
   "execution_count": 12,
   "metadata": {},
   "outputs": [
    {
     "name": "stdout",
     "output_type": "stream",
     "text": [
      "(8956, 1785)\n",
      "(10848, 1725)\n",
      "(5606, 1666)\n",
      "(15578, 1579)\n",
      "(10496, 1425)\n",
      "(17239, 1394)\n",
      "(2674, 1392)\n",
      "(13980, 1379)\n",
      "(18266, 1302)\n",
      "(2272, 1300)\n"
     ]
    }
   ],
   "source": [
    "#printing the global top-10\n",
    "for i in range(10):\n",
    "    print(final_chart[i])"
   ]
  },
  {
   "cell_type": "code",
   "execution_count": 13,
   "metadata": {},
   "outputs": [],
   "source": [
    "# address of the file containing all playlists (target_playlists.csv)\n",
    "target_playlists_file = '../data/target_playlists.csv'"
   ]
  },
  {
   "cell_type": "code",
   "execution_count": 14,
   "metadata": {},
   "outputs": [],
   "source": [
    "target_playlists = pd.read_csv(target_playlists_file)\n",
    "target_playlists.columns = ['playlist_id']"
   ]
  },
  {
   "cell_type": "code",
   "execution_count": 16,
   "metadata": {},
   "outputs": [],
   "source": [
    "# selection of the target playlists with songs\n",
    "useful_data = pd.merge(target_playlists, train_data, on='playlist_id', how='inner')"
   ]
  },
  {
   "cell_type": "code",
   "execution_count": 20,
   "metadata": {},
   "outputs": [],
   "source": [
    "# creating a dictionary containing playlist:list of songs of that playlist\n",
    "raw_playlists = {}\n",
    "for row in useful_data.itertuples(index=True, name='Pandas'):\n",
    "    playlist = getattr(row, \"playlist_id\")\n",
    "    track = getattr(row, \"track_id\")\n",
    "    if playlist not in raw_playlists:\n",
    "        raw_playlists[playlist] = [track]\n",
    "    else:\n",
    "        raw_playlists[playlist].append(track)"
   ]
  },
  {
   "cell_type": "code",
   "execution_count": 23,
   "metadata": {},
   "outputs": [],
   "source": [
    "# useful to get the element of the tuple that is useful for the creation of the list of songs\n",
    "def extract_song_id(position):\n",
    "    return position[0]"
   ]
  },
  {
   "cell_type": "code",
   "execution_count": 24,
   "metadata": {},
   "outputs": [],
   "source": [
    "file = open(\"submission.csv\", 'a')\n",
    "file.write(\"playlist_id,track_ids\" + '\\n')\n",
    "\n",
    "# useful to print to file with the right structure (funzione pessima ma non capisco più niente, rivedere)\n",
    "def print_to_file(playlist, tracks, file):\n",
    "    file.write(str(playlist) + ',')\n",
    "    index = 0\n",
    "    while index < 9:\n",
    "        file.write(str(tracks[index]) + ' ')\n",
    "        index += 1\n",
    "    file.write(str(tracks[index]) + '\\n')  \n"
   ]
  },
  {
   "cell_type": "code",
   "execution_count": 25,
   "metadata": {},
   "outputs": [],
   "source": [
    "# this function provide the recommendation after receiving tracks of the playlist and the chart\n",
    "def recommend(playlist, tracks, chart):\n",
    "    '''\n",
    "    it provides recommendations for a playlist, based on the tracks present in the playlist and based on the global chart\n",
    "    '''\n",
    "    to_be_recommended = []\n",
    "    count = 0\n",
    "    index = 0\n",
    "    while count < 10:\n",
    "        if extract_song_id(chart[index]) not in tracks:\n",
    "            to_be_recommended.append(extract_song_id(chart[index]))\n",
    "            count += 1\n",
    "        index +=1\n",
    "    print_to_file(playlist, to_be_recommended, file)"
   ]
  },
  {
   "cell_type": "code",
   "execution_count": 26,
   "metadata": {},
   "outputs": [],
   "source": [
    "for playlist in raw_playlists:\n",
    "    recommend(playlist, raw_playlists[playlist], final_chart)\n",
    "file.close()"
   ]
  }
 ],
 "metadata": {
  "kernelspec": {
   "display_name": "Python 3",
   "language": "python",
   "name": "python3"
  },
  "language_info": {
   "codemirror_mode": {
    "name": "ipython",
    "version": 3
   },
   "file_extension": ".py",
   "mimetype": "text/x-python",
   "name": "python",
   "nbconvert_exporter": "python",
   "pygments_lexer": "ipython3",
   "version": "3.7.0"
  }
 },
 "nbformat": 4,
 "nbformat_minor": 2
}
